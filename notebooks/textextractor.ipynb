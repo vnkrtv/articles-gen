{
 "cells": [
  {
   "cell_type": "code",
   "execution_count": 1,
   "metadata": {},
   "outputs": [
    {
     "name": "stdout",
     "output_type": "stream",
     "text": [
      "Requirement already satisfied: textract in /home/vnkrtv/anaconda3/lib/python3.7/site-packages (1.6.3)\n",
      "Requirement already satisfied: argcomplete==1.10.0 in /home/vnkrtv/anaconda3/lib/python3.7/site-packages (from textract) (1.10.0)\n",
      "Requirement already satisfied: pdfminer.six==20181108 in /home/vnkrtv/anaconda3/lib/python3.7/site-packages (from textract) (20181108)\n",
      "Requirement already satisfied: extract-msg==0.23.1 in /home/vnkrtv/anaconda3/lib/python3.7/site-packages (from textract) (0.23.1)\n",
      "Requirement already satisfied: EbookLib==0.17.1 in /home/vnkrtv/anaconda3/lib/python3.7/site-packages (from textract) (0.17.1)\n",
      "Requirement already satisfied: docx2txt==0.8 in /home/vnkrtv/anaconda3/lib/python3.7/site-packages (from textract) (0.8)\n",
      "Requirement already satisfied: chardet==3.0.4 in /home/vnkrtv/anaconda3/lib/python3.7/site-packages (from textract) (3.0.4)\n",
      "Requirement already satisfied: beautifulsoup4==4.8.0 in /home/vnkrtv/anaconda3/lib/python3.7/site-packages (from textract) (4.8.0)\n",
      "Requirement already satisfied: python-pptx==0.6.18 in /home/vnkrtv/anaconda3/lib/python3.7/site-packages (from textract) (0.6.18)\n",
      "Requirement already satisfied: SpeechRecognition==3.8.1 in /home/vnkrtv/anaconda3/lib/python3.7/site-packages (from textract) (3.8.1)\n",
      "Requirement already satisfied: six==1.12.0 in /home/vnkrtv/anaconda3/lib/python3.7/site-packages (from textract) (1.12.0)\n",
      "Requirement already satisfied: xlrd==1.2.0 in /home/vnkrtv/anaconda3/lib/python3.7/site-packages (from textract) (1.2.0)\n",
      "Requirement already satisfied: sortedcontainers in /home/vnkrtv/anaconda3/lib/python3.7/site-packages (from pdfminer.six==20181108->textract) (2.1.0)\n",
      "Requirement already satisfied: pycryptodome in /home/vnkrtv/anaconda3/lib/python3.7/site-packages (from pdfminer.six==20181108->textract) (3.10.1)\n",
      "Requirement already satisfied: olefile==0.46 in /home/vnkrtv/anaconda3/lib/python3.7/site-packages (from extract-msg==0.23.1->textract) (0.46)\n",
      "Requirement already satisfied: imapclient==2.1.0 in /home/vnkrtv/anaconda3/lib/python3.7/site-packages (from extract-msg==0.23.1->textract) (2.1.0)\n",
      "Requirement already satisfied: tzlocal==1.5.1 in /home/vnkrtv/anaconda3/lib/python3.7/site-packages (from extract-msg==0.23.1->textract) (1.5.1)\n",
      "Requirement already satisfied: lxml in /home/vnkrtv/anaconda3/lib/python3.7/site-packages (from EbookLib==0.17.1->textract) (4.5.0)\n",
      "Requirement already satisfied: soupsieve>=1.2 in /home/vnkrtv/anaconda3/lib/python3.7/site-packages (from beautifulsoup4==4.8.0->textract) (1.9.5)\n",
      "Requirement already satisfied: Pillow>=3.3.2 in /home/vnkrtv/anaconda3/lib/python3.7/site-packages (from python-pptx==0.6.18->textract) (7.0.0)\n",
      "Requirement already satisfied: XlsxWriter>=0.5.7 in /home/vnkrtv/anaconda3/lib/python3.7/site-packages (from python-pptx==0.6.18->textract) (1.2.7)\n",
      "Requirement already satisfied: pytz in /home/vnkrtv/anaconda3/lib/python3.7/site-packages (from tzlocal==1.5.1->extract-msg==0.23.1->textract) (2019.3)\n"
     ]
    }
   ],
   "source": [
    "import sys\n",
    "!{sys.executable} -m pip install textract\n",
    "import textract"
   ]
  },
  {
   "cell_type": "code",
   "execution_count": 5,
   "metadata": {},
   "outputs": [
    {
     "name": "stdout",
     "output_type": "stream",
     "text": [
      "'=7'\t\t\t       mnogogramm.ipynb\r\n",
      " 7\t\t\t       PostgresChain.ipynb\r\n",
      " AddModels.ipynb\t       PostgresMarcov.ipynb\r\n",
      " BigramMarkov.ipynb\t       posts.csv\r\n",
      " clusters.json\t\t       result.docx\r\n",
      " decoded_habs_list.json        SplitByTopic.ipynb\r\n",
      " elastic7.ipynb\t\t       tags.csv\r\n",
      " ElasticseachT9.ipynb\t       test.json\r\n",
      " EncodedMarkovT9.ipynb\t       textextractor.ipynb\r\n",
      " glubokoe.pdf\t\t       TopicsClasterization.ipynb\r\n",
      " HabrAnalysis.ipynb\t       tsne.json\r\n",
      " habs.csv\t\t       WikiParse.ipynb\r\n",
      " MarkovifyChainEncoder.ipynb   WikiTexts.ipynb\r\n",
      " Markov.ipynb\t\t       План_Конференция_МИНИТ.doc\r\n",
      " MarkovWithGenerators.ipynb\r\n"
     ]
    }
   ],
   "source": [
    "!ls"
   ]
  },
  {
   "cell_type": "code",
   "execution_count": 6,
   "metadata": {},
   "outputs": [],
   "source": [
    "!mkdir training_data"
   ]
  },
  {
   "cell_type": "code",
   "execution_count": 9,
   "metadata": {},
   "outputs": [],
   "source": [
    "import os\n",
    "\n",
    "training_directory = os.path.join(os.getcwd(), \"training_data\")\n",
    "source_directory = os.path.join(os.getcwd())\n",
    "\n",
    "for process_file in  ['glubokoe.pdf', 'result.docx', 'План_Конференция_МИНИТ.doc']:\n",
    "    file, extension = os.path.splitext(process_file)\n",
    "    \n",
    "    # We create a new text file name by concatenating the .txt extension to file UUID\n",
    "    dest_file_path = file + '.txt'\n",
    "    \n",
    "    #extract text from the file\n",
    "    content = textract.process(os.path.join(source_directory, process_file))\n",
    "    \n",
    "    # We create and open the new and we prepare to write the Binary Data which is represented by the wb - Write Binary\n",
    "    write_text_file = open(os.path.join(training_directory, dest_file_path), \"wb\")\n",
    "    \n",
    "    #write the content and close the newly created file\n",
    "    write_text_file.write(content)\n",
    "    write_text_file.close()"
   ]
  },
  {
   "cell_type": "code",
   "execution_count": 23,
   "metadata": {},
   "outputs": [
    {
     "ename": "AttributeError",
     "evalue": "module 'textract' has no attribute 'utils'",
     "output_type": "error",
     "traceback": [
      "\u001b[0;31m---------------------------------------------------------------------------\u001b[0m",
      "\u001b[0;31mAttributeError\u001b[0m                            Traceback (most recent call last)",
      "\u001b[0;32m<ipython-input-23-e8cfcf5f98c3>\u001b[0m in \u001b[0;36m<module>\u001b[0;34m\u001b[0m\n\u001b[1;32m      8\u001b[0m \u001b[0;34m\u001b[0m\u001b[0m\n\u001b[1;32m      9\u001b[0m     \u001b[0;31m#extract text from the file\u001b[0m\u001b[0;34m\u001b[0m\u001b[0;34m\u001b[0m\u001b[0;34m\u001b[0m\u001b[0m\n\u001b[0;32m---> 10\u001b[0;31m     \u001b[0mcontent\u001b[0m \u001b[0;34m=\u001b[0m \u001b[0mtextract\u001b[0m\u001b[0;34m.\u001b[0m\u001b[0mutils\u001b[0m\u001b[0;34m.\u001b[0m\u001b[0mextract_from_xml\u001b[0m\u001b[0;34m(\u001b[0m\u001b[0mos\u001b[0m\u001b[0;34m.\u001b[0m\u001b[0mpath\u001b[0m\u001b[0;34m.\u001b[0m\u001b[0mjoin\u001b[0m\u001b[0;34m(\u001b[0m\u001b[0msource_directory\u001b[0m\u001b[0;34m,\u001b[0m \u001b[0mprocess_file\u001b[0m\u001b[0;34m)\u001b[0m\u001b[0;34m)\u001b[0m\u001b[0;34m\u001b[0m\u001b[0;34m\u001b[0m\u001b[0m\n\u001b[0m\u001b[1;32m     11\u001b[0m \u001b[0;34m\u001b[0m\u001b[0m\n\u001b[1;32m     12\u001b[0m     \u001b[0;31m# We create and open the new and we prepare to write the Binary Data which is represented by the wb - Write Binary\u001b[0m\u001b[0;34m\u001b[0m\u001b[0;34m\u001b[0m\u001b[0;34m\u001b[0m\u001b[0m\n",
      "\u001b[0;31mAttributeError\u001b[0m: module 'textract' has no attribute 'utils'"
     ]
    }
   ],
   "source": [
    "WIKI_PATH = '/data/data/uwiki-20210301-pages-articles-multistream.xml'\n",
    "\n",
    "for process_file in  [WIKI_PATH]:\n",
    "    file, extension = os.path.splitext(process_file)\n",
    "    \n",
    "    # We create a new text file name by concatenating the .txt extension to file UUID\n",
    "    dest_file_path = file + '.txt'\n",
    "    \n",
    "    #extract text from the file\n",
    "    content = textract.utils.extract_from_xml(os.path.join(source_directory, process_file))\n",
    "    \n",
    "    # We create and open the new and we prepare to write the Binary Data which is represented by the wb - Write Binary\n",
    "    write_text_file = open(os.path.join(training_directory, dest_file_path), \"wb\")\n",
    "    \n",
    "    #write the content and close the newly created file\n",
    "    write_text_file.write(content)\n",
    "    write_text_file.close()"
   ]
  },
  {
   "cell_type": "code",
   "execution_count": 11,
   "metadata": {},
   "outputs": [],
   "source": [
    "PDF_PATH = '/home/vnkrtv/Study/CourseWork_4/docs/result.pdf'\n",
    "\n",
    "for process_file in  [PDF_PATH]:\n",
    "    file, extension = os.path.splitext(process_file)\n",
    "    \n",
    "    # We create a new text file name by concatenating the .txt extension to file UUID\n",
    "    dest_file_path = file + '.txt'\n",
    "    \n",
    "    #extract text from the file\n",
    "    content = textract.process(os.path.join(source_directory, process_file))\n",
    "    \n",
    "    # We create and open the new and we prepare to write the Binary Data which is represented by the wb - Write Binary\n",
    "    write_text_file = open(os.path.join(training_directory, dest_file_path), \"wb\")\n",
    "    \n",
    "    #write the content and close the newly created file\n",
    "    write_text_file.write(content)\n",
    "    write_text_file.close()"
   ]
  },
  {
   "cell_type": "code",
   "execution_count": 25,
   "metadata": {},
   "outputs": [
    {
     "ename": "TypeError",
     "evalue": "decode() argument 1 must be str, not None",
     "output_type": "error",
     "traceback": [
      "\u001b[0;31m---------------------------------------------------------------------------\u001b[0m",
      "\u001b[0;31mTypeError\u001b[0m                                 Traceback (most recent call last)",
      "\u001b[0;32m<ipython-input-25-8efe96720a60>\u001b[0m in \u001b[0;36m<module>\u001b[0;34m\u001b[0m\n\u001b[1;32m      8\u001b[0m \u001b[0;34m\u001b[0m\u001b[0m\n\u001b[1;32m      9\u001b[0m     \u001b[0;31m#extract text from the file\u001b[0m\u001b[0;34m\u001b[0m\u001b[0;34m\u001b[0m\u001b[0;34m\u001b[0m\u001b[0m\n\u001b[0;32m---> 10\u001b[0;31m     \u001b[0mcontent\u001b[0m \u001b[0;34m=\u001b[0m \u001b[0mtextract\u001b[0m\u001b[0;34m.\u001b[0m\u001b[0mprocess\u001b[0m\u001b[0;34m(\u001b[0m\u001b[0mPDF_PATH\u001b[0m\u001b[0;34m)\u001b[0m\u001b[0;34m\u001b[0m\u001b[0;34m\u001b[0m\u001b[0m\n\u001b[0m\u001b[1;32m     11\u001b[0m \u001b[0;34m\u001b[0m\u001b[0m\n\u001b[1;32m     12\u001b[0m     \u001b[0;31m# We create and open the new and we prepare to write the Binary Data which is represented by the wb - Write Binary\u001b[0m\u001b[0;34m\u001b[0m\u001b[0;34m\u001b[0m\u001b[0;34m\u001b[0m\u001b[0m\n",
      "\u001b[0;32m~/anaconda3/lib/python3.7/site-packages/textract/parsers/__init__.py\u001b[0m in \u001b[0;36mprocess\u001b[0;34m(filename, encoding, extension, **kwargs)\u001b[0m\n\u001b[1;32m     75\u001b[0m \u001b[0;34m\u001b[0m\u001b[0m\n\u001b[1;32m     76\u001b[0m     \u001b[0mparser\u001b[0m \u001b[0;34m=\u001b[0m \u001b[0mfiletype_module\u001b[0m\u001b[0;34m.\u001b[0m\u001b[0mParser\u001b[0m\u001b[0;34m(\u001b[0m\u001b[0;34m)\u001b[0m\u001b[0;34m\u001b[0m\u001b[0;34m\u001b[0m\u001b[0m\n\u001b[0;32m---> 77\u001b[0;31m     \u001b[0;32mreturn\u001b[0m \u001b[0mparser\u001b[0m\u001b[0;34m.\u001b[0m\u001b[0mprocess\u001b[0m\u001b[0;34m(\u001b[0m\u001b[0mfilename\u001b[0m\u001b[0;34m,\u001b[0m \u001b[0mencoding\u001b[0m\u001b[0;34m,\u001b[0m \u001b[0;34m**\u001b[0m\u001b[0mkwargs\u001b[0m\u001b[0;34m)\u001b[0m\u001b[0;34m\u001b[0m\u001b[0;34m\u001b[0m\u001b[0m\n\u001b[0m\u001b[1;32m     78\u001b[0m \u001b[0;34m\u001b[0m\u001b[0m\n\u001b[1;32m     79\u001b[0m \u001b[0;34m\u001b[0m\u001b[0m\n",
      "\u001b[0;32m~/anaconda3/lib/python3.7/site-packages/textract/parsers/utils.py\u001b[0m in \u001b[0;36mprocess\u001b[0;34m(self, filename, encoding, **kwargs)\u001b[0m\n\u001b[1;32m     45\u001b[0m         \u001b[0;31m# http://nedbatchelder.com/text/unipain/unipain.html#35\u001b[0m\u001b[0;34m\u001b[0m\u001b[0;34m\u001b[0m\u001b[0;34m\u001b[0m\u001b[0m\n\u001b[1;32m     46\u001b[0m         \u001b[0mbyte_string\u001b[0m \u001b[0;34m=\u001b[0m \u001b[0mself\u001b[0m\u001b[0;34m.\u001b[0m\u001b[0mextract\u001b[0m\u001b[0;34m(\u001b[0m\u001b[0mfilename\u001b[0m\u001b[0;34m,\u001b[0m \u001b[0;34m**\u001b[0m\u001b[0mkwargs\u001b[0m\u001b[0;34m)\u001b[0m\u001b[0;34m\u001b[0m\u001b[0;34m\u001b[0m\u001b[0m\n\u001b[0;32m---> 47\u001b[0;31m         \u001b[0municode_string\u001b[0m \u001b[0;34m=\u001b[0m \u001b[0mself\u001b[0m\u001b[0;34m.\u001b[0m\u001b[0mdecode\u001b[0m\u001b[0;34m(\u001b[0m\u001b[0mbyte_string\u001b[0m\u001b[0;34m)\u001b[0m\u001b[0;34m\u001b[0m\u001b[0;34m\u001b[0m\u001b[0m\n\u001b[0m\u001b[1;32m     48\u001b[0m         \u001b[0;32mreturn\u001b[0m \u001b[0mself\u001b[0m\u001b[0;34m.\u001b[0m\u001b[0mencode\u001b[0m\u001b[0;34m(\u001b[0m\u001b[0municode_string\u001b[0m\u001b[0;34m,\u001b[0m \u001b[0mencoding\u001b[0m\u001b[0;34m)\u001b[0m\u001b[0;34m\u001b[0m\u001b[0;34m\u001b[0m\u001b[0m\n\u001b[1;32m     49\u001b[0m \u001b[0;34m\u001b[0m\u001b[0m\n",
      "\u001b[0;32m~/anaconda3/lib/python3.7/site-packages/textract/parsers/utils.py\u001b[0m in \u001b[0;36mdecode\u001b[0;34m(self, text)\u001b[0m\n\u001b[1;32m     63\u001b[0m         \u001b[0;31m# use chardet to automatically detect the encoding text\u001b[0m\u001b[0;34m\u001b[0m\u001b[0;34m\u001b[0m\u001b[0;34m\u001b[0m\u001b[0m\n\u001b[1;32m     64\u001b[0m         \u001b[0mresult\u001b[0m \u001b[0;34m=\u001b[0m \u001b[0mchardet\u001b[0m\u001b[0;34m.\u001b[0m\u001b[0mdetect\u001b[0m\u001b[0;34m(\u001b[0m\u001b[0mtext\u001b[0m\u001b[0;34m)\u001b[0m\u001b[0;34m\u001b[0m\u001b[0;34m\u001b[0m\u001b[0m\n\u001b[0;32m---> 65\u001b[0;31m         \u001b[0;32mreturn\u001b[0m \u001b[0mtext\u001b[0m\u001b[0;34m.\u001b[0m\u001b[0mdecode\u001b[0m\u001b[0;34m(\u001b[0m\u001b[0mresult\u001b[0m\u001b[0;34m[\u001b[0m\u001b[0;34m'encoding'\u001b[0m\u001b[0;34m]\u001b[0m\u001b[0;34m)\u001b[0m\u001b[0;34m\u001b[0m\u001b[0;34m\u001b[0m\u001b[0m\n\u001b[0m\u001b[1;32m     66\u001b[0m \u001b[0;34m\u001b[0m\u001b[0m\n\u001b[1;32m     67\u001b[0m \u001b[0;34m\u001b[0m\u001b[0m\n",
      "\u001b[0;31mTypeError\u001b[0m: decode() argument 1 must be str, not None"
     ]
    }
   ],
   "source": [
    "PDF_PATH = '/home/vnkrtv/Desktop/books/info_theBook.pdf'\n",
    "\n",
    "for process_file in  [PDF_PATH]:\n",
    "    file, extension = os.path.splitext(process_file)\n",
    "    \n",
    "    # We create a new text file name by concatenating the .txt extension to file UUID\n",
    "    dest_file_path = file + '.txt'\n",
    "    \n",
    "    #extract text from the file\n",
    "    content = textract.process(os.path.join(source_directory, process_file))\n",
    "    \n",
    "    # We create and open the new and we prepare to write the Binary Data which is represented by the wb - Write Binary\n",
    "    write_text_file = open(os.path.join(training_directory, dest_file_path), \"wb\")\n",
    "    \n",
    "    #write the content and close the newly created file\n",
    "    write_text_file.write(content)\n",
    "    write_text_file.close()"
   ]
  },
  {
   "cell_type": "code",
   "execution_count": 17,
   "metadata": {},
   "outputs": [
    {
     "ename": "ShellError",
     "evalue": "The command `tesseract /home/vnkrtv/Pictures/cmake.png stdout` failed because the executable\n`tesseract` is not installed on your system. Please make\nsure the appropriate dependencies are installed before using\ntextract:\n\n    http://textract.readthedocs.org/en/latest/installation.html\n",
     "output_type": "error",
     "traceback": [
      "\u001b[0;31m---------------------------------------------------------------------------\u001b[0m",
      "\u001b[0;31mFileNotFoundError\u001b[0m                         Traceback (most recent call last)",
      "\u001b[0;32m~/anaconda3/lib/python3.7/site-packages/textract/parsers/utils.py\u001b[0m in \u001b[0;36mrun\u001b[0;34m(self, args)\u001b[0m\n\u001b[1;32m     83\u001b[0m                 \u001b[0margs\u001b[0m\u001b[0;34m,\u001b[0m\u001b[0;34m\u001b[0m\u001b[0;34m\u001b[0m\u001b[0m\n\u001b[0;32m---> 84\u001b[0;31m                 \u001b[0mstdout\u001b[0m\u001b[0;34m=\u001b[0m\u001b[0msubprocess\u001b[0m\u001b[0;34m.\u001b[0m\u001b[0mPIPE\u001b[0m\u001b[0;34m,\u001b[0m \u001b[0mstderr\u001b[0m\u001b[0;34m=\u001b[0m\u001b[0msubprocess\u001b[0m\u001b[0;34m.\u001b[0m\u001b[0mPIPE\u001b[0m\u001b[0;34m,\u001b[0m\u001b[0;34m\u001b[0m\u001b[0;34m\u001b[0m\u001b[0m\n\u001b[0m\u001b[1;32m     85\u001b[0m             )\n",
      "\u001b[0;32m~/anaconda3/lib/python3.7/subprocess.py\u001b[0m in \u001b[0;36m__init__\u001b[0;34m(self, args, bufsize, executable, stdin, stdout, stderr, preexec_fn, close_fds, shell, cwd, env, universal_newlines, startupinfo, creationflags, restore_signals, start_new_session, pass_fds, encoding, errors, text)\u001b[0m\n\u001b[1;32m    799\u001b[0m                                 \u001b[0merrread\u001b[0m\u001b[0;34m,\u001b[0m \u001b[0merrwrite\u001b[0m\u001b[0;34m,\u001b[0m\u001b[0;34m\u001b[0m\u001b[0;34m\u001b[0m\u001b[0m\n\u001b[0;32m--> 800\u001b[0;31m                                 restore_signals, start_new_session)\n\u001b[0m\u001b[1;32m    801\u001b[0m         \u001b[0;32mexcept\u001b[0m\u001b[0;34m:\u001b[0m\u001b[0;34m\u001b[0m\u001b[0;34m\u001b[0m\u001b[0m\n",
      "\u001b[0;32m~/anaconda3/lib/python3.7/subprocess.py\u001b[0m in \u001b[0;36m_execute_child\u001b[0;34m(self, args, executable, preexec_fn, close_fds, pass_fds, cwd, env, startupinfo, creationflags, shell, p2cread, p2cwrite, c2pread, c2pwrite, errread, errwrite, restore_signals, start_new_session)\u001b[0m\n\u001b[1;32m   1550\u001b[0m                             \u001b[0merr_msg\u001b[0m \u001b[0;34m+=\u001b[0m \u001b[0;34m': '\u001b[0m \u001b[0;34m+\u001b[0m \u001b[0mrepr\u001b[0m\u001b[0;34m(\u001b[0m\u001b[0merr_filename\u001b[0m\u001b[0;34m)\u001b[0m\u001b[0;34m\u001b[0m\u001b[0;34m\u001b[0m\u001b[0m\n\u001b[0;32m-> 1551\u001b[0;31m                     \u001b[0;32mraise\u001b[0m \u001b[0mchild_exception_type\u001b[0m\u001b[0;34m(\u001b[0m\u001b[0merrno_num\u001b[0m\u001b[0;34m,\u001b[0m \u001b[0merr_msg\u001b[0m\u001b[0;34m,\u001b[0m \u001b[0merr_filename\u001b[0m\u001b[0;34m)\u001b[0m\u001b[0;34m\u001b[0m\u001b[0;34m\u001b[0m\u001b[0m\n\u001b[0m\u001b[1;32m   1552\u001b[0m                 \u001b[0;32mraise\u001b[0m \u001b[0mchild_exception_type\u001b[0m\u001b[0;34m(\u001b[0m\u001b[0merr_msg\u001b[0m\u001b[0;34m)\u001b[0m\u001b[0;34m\u001b[0m\u001b[0;34m\u001b[0m\u001b[0m\n",
      "\u001b[0;31mFileNotFoundError\u001b[0m: [Errno 2] No such file or directory: 'tesseract': 'tesseract'",
      "\nDuring handling of the above exception, another exception occurred:\n",
      "\u001b[0;31mShellError\u001b[0m                                Traceback (most recent call last)",
      "\u001b[0;32m<ipython-input-17-10c1a0818e65>\u001b[0m in \u001b[0;36m<module>\u001b[0;34m\u001b[0m\n\u001b[1;32m      8\u001b[0m \u001b[0;34m\u001b[0m\u001b[0m\n\u001b[1;32m      9\u001b[0m     \u001b[0;31m#extract text from the file\u001b[0m\u001b[0;34m\u001b[0m\u001b[0;34m\u001b[0m\u001b[0;34m\u001b[0m\u001b[0m\n\u001b[0;32m---> 10\u001b[0;31m     \u001b[0mcontent\u001b[0m \u001b[0;34m=\u001b[0m \u001b[0mtextract\u001b[0m\u001b[0;34m.\u001b[0m\u001b[0mprocess\u001b[0m\u001b[0;34m(\u001b[0m\u001b[0mos\u001b[0m\u001b[0;34m.\u001b[0m\u001b[0mpath\u001b[0m\u001b[0;34m.\u001b[0m\u001b[0mjoin\u001b[0m\u001b[0;34m(\u001b[0m\u001b[0msource_directory\u001b[0m\u001b[0;34m,\u001b[0m \u001b[0mprocess_file\u001b[0m\u001b[0;34m)\u001b[0m\u001b[0;34m)\u001b[0m\u001b[0;34m\u001b[0m\u001b[0;34m\u001b[0m\u001b[0m\n\u001b[0m\u001b[1;32m     11\u001b[0m \u001b[0;34m\u001b[0m\u001b[0m\n\u001b[1;32m     12\u001b[0m     \u001b[0;31m# We create and open the new and we prepare to write the Binary Data which is represented by the wb - Write Binary\u001b[0m\u001b[0;34m\u001b[0m\u001b[0;34m\u001b[0m\u001b[0;34m\u001b[0m\u001b[0m\n",
      "\u001b[0;32m~/anaconda3/lib/python3.7/site-packages/textract/parsers/__init__.py\u001b[0m in \u001b[0;36mprocess\u001b[0;34m(filename, encoding, extension, **kwargs)\u001b[0m\n\u001b[1;32m     75\u001b[0m \u001b[0;34m\u001b[0m\u001b[0m\n\u001b[1;32m     76\u001b[0m     \u001b[0mparser\u001b[0m \u001b[0;34m=\u001b[0m \u001b[0mfiletype_module\u001b[0m\u001b[0;34m.\u001b[0m\u001b[0mParser\u001b[0m\u001b[0;34m(\u001b[0m\u001b[0;34m)\u001b[0m\u001b[0;34m\u001b[0m\u001b[0;34m\u001b[0m\u001b[0m\n\u001b[0;32m---> 77\u001b[0;31m     \u001b[0;32mreturn\u001b[0m \u001b[0mparser\u001b[0m\u001b[0;34m.\u001b[0m\u001b[0mprocess\u001b[0m\u001b[0;34m(\u001b[0m\u001b[0mfilename\u001b[0m\u001b[0;34m,\u001b[0m \u001b[0mencoding\u001b[0m\u001b[0;34m,\u001b[0m \u001b[0;34m**\u001b[0m\u001b[0mkwargs\u001b[0m\u001b[0;34m)\u001b[0m\u001b[0;34m\u001b[0m\u001b[0;34m\u001b[0m\u001b[0m\n\u001b[0m\u001b[1;32m     78\u001b[0m \u001b[0;34m\u001b[0m\u001b[0m\n\u001b[1;32m     79\u001b[0m \u001b[0;34m\u001b[0m\u001b[0m\n",
      "\u001b[0;32m~/anaconda3/lib/python3.7/site-packages/textract/parsers/utils.py\u001b[0m in \u001b[0;36mprocess\u001b[0;34m(self, filename, encoding, **kwargs)\u001b[0m\n\u001b[1;32m     44\u001b[0m         \u001b[0;31m# output encoding\u001b[0m\u001b[0;34m\u001b[0m\u001b[0;34m\u001b[0m\u001b[0;34m\u001b[0m\u001b[0m\n\u001b[1;32m     45\u001b[0m         \u001b[0;31m# http://nedbatchelder.com/text/unipain/unipain.html#35\u001b[0m\u001b[0;34m\u001b[0m\u001b[0;34m\u001b[0m\u001b[0;34m\u001b[0m\u001b[0m\n\u001b[0;32m---> 46\u001b[0;31m         \u001b[0mbyte_string\u001b[0m \u001b[0;34m=\u001b[0m \u001b[0mself\u001b[0m\u001b[0;34m.\u001b[0m\u001b[0mextract\u001b[0m\u001b[0;34m(\u001b[0m\u001b[0mfilename\u001b[0m\u001b[0;34m,\u001b[0m \u001b[0;34m**\u001b[0m\u001b[0mkwargs\u001b[0m\u001b[0;34m)\u001b[0m\u001b[0;34m\u001b[0m\u001b[0;34m\u001b[0m\u001b[0m\n\u001b[0m\u001b[1;32m     47\u001b[0m         \u001b[0municode_string\u001b[0m \u001b[0;34m=\u001b[0m \u001b[0mself\u001b[0m\u001b[0;34m.\u001b[0m\u001b[0mdecode\u001b[0m\u001b[0;34m(\u001b[0m\u001b[0mbyte_string\u001b[0m\u001b[0;34m)\u001b[0m\u001b[0;34m\u001b[0m\u001b[0;34m\u001b[0m\u001b[0m\n\u001b[1;32m     48\u001b[0m         \u001b[0;32mreturn\u001b[0m \u001b[0mself\u001b[0m\u001b[0;34m.\u001b[0m\u001b[0mencode\u001b[0m\u001b[0;34m(\u001b[0m\u001b[0municode_string\u001b[0m\u001b[0;34m,\u001b[0m \u001b[0mencoding\u001b[0m\u001b[0;34m)\u001b[0m\u001b[0;34m\u001b[0m\u001b[0;34m\u001b[0m\u001b[0m\n",
      "\u001b[0;32m~/anaconda3/lib/python3.7/site-packages/textract/parsers/image.py\u001b[0m in \u001b[0;36mextract\u001b[0;34m(self, filename, **kwargs)\u001b[0m\n\u001b[1;32m     18\u001b[0m             \u001b[0margs\u001b[0m \u001b[0;34m=\u001b[0m \u001b[0;34m[\u001b[0m\u001b[0;34m'tesseract'\u001b[0m\u001b[0;34m,\u001b[0m \u001b[0mfilename\u001b[0m\u001b[0;34m,\u001b[0m \u001b[0;34m'stdout'\u001b[0m\u001b[0;34m]\u001b[0m\u001b[0;34m\u001b[0m\u001b[0;34m\u001b[0m\u001b[0m\n\u001b[1;32m     19\u001b[0m \u001b[0;34m\u001b[0m\u001b[0m\n\u001b[0;32m---> 20\u001b[0;31m         \u001b[0mstdout\u001b[0m\u001b[0;34m,\u001b[0m \u001b[0m_\u001b[0m \u001b[0;34m=\u001b[0m \u001b[0mself\u001b[0m\u001b[0;34m.\u001b[0m\u001b[0mrun\u001b[0m\u001b[0;34m(\u001b[0m\u001b[0margs\u001b[0m\u001b[0;34m)\u001b[0m\u001b[0;34m\u001b[0m\u001b[0;34m\u001b[0m\u001b[0m\n\u001b[0m\u001b[1;32m     21\u001b[0m         \u001b[0;32mreturn\u001b[0m \u001b[0mstdout\u001b[0m\u001b[0;34m\u001b[0m\u001b[0;34m\u001b[0m\u001b[0m\n",
      "\u001b[0;32m~/anaconda3/lib/python3.7/site-packages/textract/parsers/utils.py\u001b[0m in \u001b[0;36mrun\u001b[0;34m(self, args)\u001b[0m\n\u001b[1;32m     89\u001b[0m                 \u001b[0;31m# This is equivalent to getting exitcode 127 from sh\u001b[0m\u001b[0;34m\u001b[0m\u001b[0;34m\u001b[0m\u001b[0;34m\u001b[0m\u001b[0m\n\u001b[1;32m     90\u001b[0m                 raise exceptions.ShellError(\n\u001b[0;32m---> 91\u001b[0;31m                     \u001b[0;34m' '\u001b[0m\u001b[0;34m.\u001b[0m\u001b[0mjoin\u001b[0m\u001b[0;34m(\u001b[0m\u001b[0margs\u001b[0m\u001b[0;34m)\u001b[0m\u001b[0;34m,\u001b[0m \u001b[0;36m127\u001b[0m\u001b[0;34m,\u001b[0m \u001b[0;34m''\u001b[0m\u001b[0;34m,\u001b[0m \u001b[0;34m''\u001b[0m\u001b[0;34m,\u001b[0m\u001b[0;34m\u001b[0m\u001b[0;34m\u001b[0m\u001b[0m\n\u001b[0m\u001b[1;32m     92\u001b[0m                 )\n\u001b[1;32m     93\u001b[0m \u001b[0;34m\u001b[0m\u001b[0m\n",
      "\u001b[0;31mShellError\u001b[0m: The command `tesseract /home/vnkrtv/Pictures/cmake.png stdout` failed because the executable\n`tesseract` is not installed on your system. Please make\nsure the appropriate dependencies are installed before using\ntextract:\n\n    http://textract.readthedocs.org/en/latest/installation.html\n"
     ]
    }
   ],
   "source": [
    "PDF_PATH = '/home/vnkrtv/Pictures/cmake.png'\n",
    "\n",
    "for process_file in  [PDF_PATH]:\n",
    "    file, extension = os.path.splitext(process_file)\n",
    "    \n",
    "    # We create a new text file name by concatenating the .txt extension to file UUID\n",
    "    dest_file_path = file + '.txt'\n",
    "    \n",
    "    #extract text from the file\n",
    "    content = textract.process(os.path.join(source_directory, process_file))\n",
    "    \n",
    "    # We create and open the new and we prepare to write the Binary Data which is represented by the wb - Write Binary\n",
    "    write_text_file = open(os.path.join(training_directory, dest_file_path), \"wb\")\n",
    "    \n",
    "    #write the content and close the newly created file\n",
    "    write_text_file.write(content)\n",
    "    write_text_file.close()\n",
    "!cat training_data/cmake.txt"
   ]
  },
  {
   "cell_type": "code",
   "execution_count": 19,
   "metadata": {},
   "outputs": [],
   "source": [
    "PDF_PATH = '/home/vnkrtv/Pictures/cmake.png'\n",
    "\n",
    "for process_file in  [PDF_PATH]:\n",
    "    file, extension = os.path.splitext(process_file)\n",
    "    \n",
    "    # We create a new text file name by concatenating the .txt extension to file UUID\n",
    "    dest_file_path = file + '.txt'\n",
    "    \n",
    "    #extract text from the file\n",
    "    content = textract.process(os.path.join(source_directory, process_file))\n",
    "    \n",
    "    # We create and open the new and we prepare to write the Binary Data which is represented by the wb - Write Binary\n",
    "    write_text_file = open(os.path.join(training_directory, dest_file_path), \"wb\")\n",
    "    \n",
    "    #write the content and close the newly created file\n",
    "    write_text_file.write(content)\n",
    "    write_text_file.close()\n",
    "    "
   ]
  },
  {
   "cell_type": "code",
   "execution_count": 20,
   "metadata": {},
   "outputs": [
    {
     "data": {
      "text/plain": [
       "'/home/vnkrtv/Pictures/cmake.txt'"
      ]
     },
     "execution_count": 20,
     "metadata": {},
     "output_type": "execute_result"
    }
   ],
   "source": [
    "dest_file_path"
   ]
  },
  {
   "cell_type": "code",
   "execution_count": null,
   "metadata": {},
   "outputs": [],
   "source": []
  }
 ],
 "metadata": {
  "kernelspec": {
   "display_name": "Python 3",
   "language": "python",
   "name": "python3"
  },
  "language_info": {
   "codemirror_mode": {
    "name": "ipython",
    "version": 3
   },
   "file_extension": ".py",
   "mimetype": "text/x-python",
   "name": "python",
   "nbconvert_exporter": "python",
   "pygments_lexer": "ipython3",
   "version": "3.7.6"
  }
 },
 "nbformat": 4,
 "nbformat_minor": 4
}
