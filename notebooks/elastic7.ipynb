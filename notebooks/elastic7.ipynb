{
 "cells": [
  {
   "cell_type": "code",
   "execution_count": 2,
   "metadata": {},
   "outputs": [
    {
     "name": "stdout",
     "output_type": "stream",
     "text": [
      "Collecting elasticsearch==7.11.0\n",
      "  Downloading elasticsearch-7.11.0-py2.py3-none-any.whl (325 kB)\n",
      "\u001b[K     |████████████████████████████████| 325 kB 484 kB/s eta 0:00:01\n",
      "\u001b[?25hRequirement already satisfied: certifi in /home/vnkrtv/anaconda3/lib/python3.7/site-packages (from elasticsearch==7.11.0) (2019.11.28)\n",
      "Requirement already satisfied: urllib3<2,>=1.21.1 in /home/vnkrtv/anaconda3/lib/python3.7/site-packages (from elasticsearch==7.11.0) (1.25.8)\n",
      "Installing collected packages: elasticsearch\n",
      "  Attempting uninstall: elasticsearch\n",
      "    Found existing installation: elasticsearch 6.8.2\n",
      "    Uninstalling elasticsearch-6.8.2:\n",
      "      Successfully uninstalled elasticsearch-6.8.2\n",
      "Successfully installed elasticsearch-7.11.0\n"
     ]
    }
   ],
   "source": [
    "import sys\n",
    "!{sys.executable} -m pip install elasticsearch==7.11.0 "
   ]
  },
  {
   "cell_type": "code",
   "execution_count": 10,
   "metadata": {},
   "outputs": [
    {
     "data": {
      "text/plain": [
       "{'name': 'd1454d4b20cf',\n",
       " 'cluster_name': 'docker-cluster',\n",
       " 'cluster_uuid': 'QAfg_8a9TGKp5k6MxgP9Yg',\n",
       " 'version': {'number': '7.10.1',\n",
       "  'build_flavor': 'default',\n",
       "  'build_type': 'docker',\n",
       "  'build_hash': '1c34507e66d7db1211f66f3513706fdf548736aa',\n",
       "  'build_date': '2020-12-05T01:00:33.671820Z',\n",
       "  'build_snapshot': False,\n",
       "  'lucene_version': '8.7.0',\n",
       "  'minimum_wire_compatibility_version': '6.8.0',\n",
       "  'minimum_index_compatibility_version': '6.0.0-beta1'},\n",
       " 'tagline': 'You Know, for Search'}"
      ]
     },
     "execution_count": 10,
     "metadata": {},
     "output_type": "execute_result"
    }
   ],
   "source": [
    "from elasticsearch import Elasticsearch\n",
    "\n",
    "es = Elasticsearch()\n",
    "es.info()"
   ]
  },
  {
   "cell_type": "code",
   "execution_count": 11,
   "metadata": {},
   "outputs": [
    {
     "data": {
      "text/plain": [
       "{'acknowledged': True, 'shards_acknowledged': True, 'index': 'name'}"
      ]
     },
     "execution_count": 11,
     "metadata": {},
     "output_type": "execute_result"
    }
   ],
   "source": [
    "body = body={\n",
    "            \"settings\": {\n",
    "                \"index\": {\n",
    "                    \"number_of_shards\": 1,\n",
    "                    \"number_of_replicas\": 2,\n",
    "                    \"analysis\": {\n",
    "                        \"analyzer\": {\n",
    "                            \"t9_analyzer\": {\n",
    "                                \"type\": \"custom\",\n",
    "                                \"tokenizer\": \"standard\",\n",
    "                                \"filter\": [\n",
    "                                    \"lowercase\",\n",
    "                                    \"custom_edge_ngram\"\n",
    "                                ]\n",
    "                            }\n",
    "                        },\n",
    "                        \"filter\": {\n",
    "                            \"custom_edge_ngram\": {\n",
    "                                \"type\": \"edge_ngram\",\n",
    "                                \"min_gram\": 2,\n",
    "                                \"max_gram\": 10\n",
    "                            }\n",
    "                        }\n",
    "                    }\n",
    "                }\n",
    "            },\n",
    "            \"mappings\": {\n",
    "                    \"properties\": {\n",
    "                        \"text\": {\n",
    "                            \"type\": \"text\",\n",
    "                            \"analyzer\": \"t9_analyzer\",\n",
    "                            \"search_analyzer\": \"standard\"\n",
    "                        }\n",
    "                    }\n",
    "            }\n",
    "        }\n",
    "\n",
    "\n",
    "es.indices.create(index='name', body=body)"
   ]
  },
  {
   "cell_type": "code",
   "execution_count": 12,
   "metadata": {},
   "outputs": [],
   "source": [
    "es.close()"
   ]
  },
  {
   "cell_type": "code",
   "execution_count": null,
   "metadata": {},
   "outputs": [],
   "source": []
  }
 ],
 "metadata": {
  "kernelspec": {
   "display_name": "Python 3",
   "language": "python",
   "name": "python3"
  },
  "language_info": {
   "codemirror_mode": {
    "name": "ipython",
    "version": 3
   },
   "file_extension": ".py",
   "mimetype": "text/x-python",
   "name": "python",
   "nbconvert_exporter": "python",
   "pygments_lexer": "ipython3",
   "version": "3.7.6"
  }
 },
 "nbformat": 4,
 "nbformat_minor": 4
}
